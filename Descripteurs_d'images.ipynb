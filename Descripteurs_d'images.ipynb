{
 "cells": [
  {
   "cell_type": "code",
   "execution_count": 1,
   "metadata": {
    "id": "KCfoD-G6XlXV"
   },
   "outputs": [],
   "source": [
    "import numpy as np\n",
    "import cv2 as cv\n",
    "import matplotlib.pyplot as plt\n",
    "from numpy import linalg as LA"
   ]
  },
  {
   "cell_type": "code",
   "execution_count": 2,
   "metadata": {
    "id": "UeGp9QA9s_O4"
   },
   "outputs": [],
   "source": [
    "#lecture de l'image\n",
    "image =cv.imread('image2.png',0)"
   ]
  },
  {
   "cell_type": "code",
   "execution_count": 3,
   "metadata": {
    "colab": {
     "base_uri": "https://localhost:8080/",
     "height": 286
    },
    "id": "xsTnzQrjs_O6",
    "outputId": "0110ce0b-a572-4196-a902-67ff6e06f9f3"
   },
   "outputs": [
    {
     "data": {
      "text/plain": [
       "<matplotlib.image.AxesImage at 0x29efdd73fa0>"
      ]
     },
     "execution_count": 3,
     "metadata": {},
     "output_type": "execute_result"
    },
    {
     "data": {
      "image/png": "[encoded data removed]",
      "text/plain": [
       "<Figure size 432x288 with 1 Axes>"
      ]
     },
     "metadata": {
      "needs_background": "light"
     },
     "output_type": "display_data"
    }
   ],
   "source": [
    "plt.imshow(image,cmap='gray')"
   ]
  },
  {
   "cell_type": "markdown",
   "metadata": {
    "id": "-mtFyUDis_O9"
   },
   "source": [
    "# Detection de points avec le detecteur MORAVEC"
   ]
  },
  {
   "cell_type": "markdown",
   "metadata": {
    "id": "YNb9BnNrs_O-"
   },
   "source": [
    "Définition de paramètres"
   ]
  },
  {
   "cell_type": "code",
   "execution_count": 4,
   "metadata": {
    "colab": {
     "base_uri": "https://localhost:8080/"
    },
    "id": "ygMvjy2fIdRT",
    "outputId": "88f49931-961d-416f-df49-740a12c0db69"
   },
   "outputs": [
    {
     "data": {
      "text/plain": [
       "array([255, 255, 255, 255, 255, 255, 255, 255, 255, 255, 255, 255, 255,\n",
       "       255, 255, 255, 255, 255, 255, 255, 255, 255, 255, 255, 255, 255,\n",
       "       255, 255, 255, 255, 255, 255, 255, 255, 255, 255,  74,   0,   0,\n",
       "         0,   0,   0,   0,   0,   0,   0,   0,   0,   0,   0,   0,   0,\n",
       "         0,   0,   0,   0,   0,   0,   0,   0,   0,   0,   0,   0,   0,\n",
       "         0,   0,   0,   0,   0,   0,   0,   0,   0,   0, 255, 255, 255,\n",
       "       255, 255, 255, 255, 255, 255, 255, 255, 255, 255, 255, 255, 255,\n",
       "       255, 255, 255, 255, 255, 255, 255, 255, 255, 255, 255, 255, 255,\n",
       "       255, 255, 255, 255, 255, 255, 255, 255, 255, 173,   0,   0,   0,\n",
       "         0,   0,   0,   0,   0,   0,   0,   0,   0,   0,   0,   0,   0,\n",
       "         0,   0,   0,   0,   0,   0,   0,   0,   0,   0,   0,   0,   0,\n",
       "         0,   0,   0,   0,   0,   0,   0,   0,   0, 191, 255, 255, 255,\n",
       "       255, 255, 255, 255, 255, 255, 255, 255, 255, 255, 255, 255, 255,\n",
       "       255, 255, 255, 255, 255, 255, 255, 255, 255, 255, 255, 255, 255,\n",
       "       255, 255, 255, 255, 255, 255, 255, 255, 255,   0,   0,   0,   0,\n",
       "         0,   0,   0,   0,   0], dtype=uint8)"
      ]
     },
     "execution_count": 4,
     "metadata": {},
     "output_type": "execute_result"
    }
   ],
   "source": [
    "image[50,0:200]"
   ]
  },
  {
   "cell_type": "code",
   "execution_count": 5,
   "metadata": {
    "id": "uRHMJXa4s_PA"
   },
   "outputs": [],
   "source": [
    "# paramétres de MORAVEC\n",
    "S= 2  # Seuil\n",
    "F= 3  # Taille de la fenêtre\n",
    "U= [[1,0],[1,1],[0,1],[-1,1],[-1,0],[-1,-1],[0,-1],[1,-1]]# Déplacements"
   ]
  },
  {
   "cell_type": "markdown",
   "metadata": {
    "id": "qAbJYuHIs_PB"
   },
   "source": [
    "Calcul de la carte de coins (cornerness map)"
   ]
  },
  {
   "cell_type": "code",
   "execution_count": 6,
   "metadata": {
    "colab": {
     "base_uri": "https://localhost:8080/"
    },
    "id": "0jPkGAgq-IB-",
    "outputId": "289458b5-7be2-4314-b668-e03b1e1d55f0"
   },
   "outputs": [
    {
     "data": {
      "text/plain": [
       "(320, 452)"
      ]
     },
     "execution_count": 6,
     "metadata": {},
     "output_type": "execute_result"
    }
   ],
   "source": [
    "image.shape"
   ]
  },
  {
   "cell_type": "code",
   "execution_count": 7,
   "metadata": {
    "id": "FdDFPeARwOLg"
   },
   "outputs": [],
   "source": [
    "def moravec(image,S,F,U):\n",
    "    image_hat = np.zeros(image.shape)#image pour retourner\n",
    "    fenetre = initFenetre(F)\n",
    "    len_V = int(np.sqrt((len(U)+1)))\n",
    "    V = np.zeros((len_V,len_V),dtype=np.float64)# init de vecteur V\n",
    "    for i in range(2,image.shape[0]-2):#hauteur\n",
    "\n",
    "        for j in range(2, image.shape[1]-2):#largeur\n",
    "      #V = np.zeros((len_V,len_V),dtype=np.float64)\n",
    "            for deplacementUV in U:\n",
    "        \n",
    "                u,v = deplacementUV[0],deplacementUV[1]\n",
    "                if(not(u==0 and v==0)):\n",
    "          \n",
    "                    uu,vv = Translate(V,u,v)\n",
    "                    V[uu,vv]=0\n",
    "          \n",
    "                    for row in fenetre:\n",
    "                        for deplacementAB in row:\n",
    "                            a,b = deplacementAB[0], deplacementAB[1]\n",
    "                            uu,vv = Translate(V,u,v)\n",
    "                            i+u+a,j+v+b\n",
    "                            V[uu,vv]=V[uu,vv]+ np.power((image[i+u+a][j+v+b]-image[i+a][j+b]),2)\n",
    "    \n",
    "            cx,cy = uu,vv = Translate(V,0,0)\n",
    "            V[cx,cy]= np.max(V)# on ne considere pas le poin 0,0 de u,v car il est pas inclus dans l algo\n",
    "            C = np.min(V)\n",
    "            if(C>=S):\n",
    "                image_hat[i,j]=1\n",
    "\n",
    "    return image_hat\n",
    "\n",
    "def Translate(V,u,v):\n",
    "    hash_map = {-1:0,0:1,1:2}\n",
    "    return hash_map[u],hash_map[v]\n",
    "def initFenetre(F):\n",
    "    Delta = int((F-1)/2)\n",
    "    ar = [[e,a] for e in range(-Delta,Delta+1,1) for a in range(-Delta,Delta+1,1)]\n",
    "    return  np.asarray(ar).reshape(F,F,2)\n",
    "\n"
   ]
  },
  {
   "cell_type": "code",
   "execution_count": 8,
   "metadata": {
    "colab": {
     "base_uri": "https://localhost:8080/"
    },
    "id": "OhJ8o422xJ-M",
    "outputId": "750b6ad0-9327-4103-b033-0624caa3672b"
   },
   "outputs": [
    {
     "name": "stderr",
     "output_type": "stream",
     "text": [
      "<ipython-input-7-a3cf89b17ce9>:23: RuntimeWarning: overflow encountered in ubyte_scalars\n",
      "  V[uu,vv]=V[uu,vv]+ np.power((image[i+u+a][j+v+b]-image[i+a][j+b]),2)\n"
     ]
    }
   ],
   "source": [
    "img2 = moravec(image,S,F,U)\n",
    "\n",
    "\n"
   ]
  },
  {
   "cell_type": "code",
   "execution_count": 9,
   "metadata": {
    "colab": {
     "base_uri": "https://localhost:8080/",
     "height": 286
    },
    "id": "5MYtn5yc_abB",
    "outputId": "8c449c5a-3d54-4cb2-f5dd-6bab6411d15c"
   },
   "outputs": [
    {
     "data": {
      "text/plain": [
       "<matplotlib.image.AxesImage at 0x29effe81820>"
      ]
     },
     "execution_count": 9,
     "metadata": {},
     "output_type": "execute_result"
    },
    {
     "data": {
      "image/png": "[encoded data removed]",
      "text/plain": [
       "<Figure size 432x288 with 1 Axes>"
      ]
     },
     "metadata": {
      "needs_background": "light"
     },
     "output_type": "display_data"
    }
   ],
   "source": [
    "plt.imshow(img2,cmap='gray')"
   ]
  },
  {
   "cell_type": "code",
   "execution_count": 10,
   "metadata": {
    "id": "SXI2MA-VZp-z"
   },
   "outputs": [],
   "source": [
    "a,b=np.where(img2==1)"
   ]
  },
  {
   "cell_type": "code",
   "execution_count": 11,
   "metadata": {
    "colab": {
     "base_uri": "https://localhost:8080/",
     "height": 286
    },
    "id": "VVwZ15BXXJMy",
    "outputId": "155a5fab-dc2f-430e-ede7-926d4b0cdb46"
   },
   "outputs": [
    {
     "data": {
      "text/plain": [
       "[<matplotlib.lines.Line2D at 0x29e8016ed30>]"
      ]
     },
     "execution_count": 11,
     "metadata": {},
     "output_type": "execute_result"
    },
    {
     "data": {
      "image/png": "[encoded data removed]",
      "text/plain": [
       "<Figure size 432x288 with 1 Axes>"
      ]
     },
     "metadata": {
      "needs_background": "light"
     },
     "output_type": "display_data"
    }
   ],
   "source": [
    "plt.figure()\n",
    "plt.imshow(image,cmap='gray')\n",
    "plt.plot(b,a,'r.')"
   ]
  },
  {
   "cell_type": "markdown",
   "metadata": {
    "id": "qtvfz5Nns_PH"
   },
   "source": [
    "# Descripteurs Harris\n",
    "D'abord calculer les valeurs et vecteurs propres comme vu en TD, puis appliquer l'agorithme de Harris"
   ]
  },
  {
   "cell_type": "code",
   "execution_count": 12,
   "metadata": {
    "id": "4c_DNoNis_PI"
   },
   "outputs": [],
   "source": [
    "A= [[-1,2,0],[0,3,4],[0,0,7]]\n",
    "B=[[-1,2,2],[2,2,-1],[1,-2,1]]\n",
    "val1, vec1 = LA.eig(A)\n",
    "val2, vec2 = LA.eig(B)"
   ]
  },
  {
   "cell_type": "code",
   "execution_count": 13,
   "metadata": {
    "colab": {
     "base_uri": "https://localhost:8080/"
    },
    "id": "BFIzAMLKs_PJ",
    "outputId": "faca1554-518d-4914-a04f-ad5b1f9dfa1f"
   },
   "outputs": [
    {
     "name": "stdout",
     "output_type": "stream",
     "text": [
      "[-1.  3.  7.] \n",
      " [[1.         0.4472136  0.17407766]\n",
      " [0.         0.89442719 0.69631062]\n",
      " [0.         0.         0.69631062]] \n",
      " [-3.  2.  3.] \n",
      " [[-8.16496581e-01  4.36435780e-01 -5.61733355e-16]\n",
      " [ 4.08248290e-01 -2.18217890e-01 -7.07106781e-01]\n",
      " [ 4.08248290e-01  8.72871561e-01  7.07106781e-01]]\n"
     ]
    }
   ],
   "source": [
    "print(val1,'\\n', vec1,'\\n',val2,'\\n',vec2)"
   ]
  },
  {
   "cell_type": "markdown",
   "metadata": {
    "id": "mXvIvk0Ms_PK"
   },
   "source": [
    "# Detection de points avec HARRIS\n",
    "- appliquer les étapes vues en TD\n",
    "- pour chaque point (x,y) de l'image, determiner si c'est un point d'interêt ou pas en prennant une fenêtre 3x3 entourant x,y"
   ]
  },
  {
   "cell_type": "markdown",
   "metadata": {
    "id": "luyTpiEllbd_"
   },
   "source": [
    "méthode utilisée :"
   ]
  },
  {
   "cell_type": "markdown",
   "metadata": {
    "id": "2GZFN-yTi8gm"
   },
   "source": [
    "![image.png](data:image/png;base64,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)"
   ]
  },
  {
   "cell_type": "markdown",
   "metadata": {
    "id": "rgMY8dkAldyY"
   },
   "source": [
    "![image.png](data:image/png;base64,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)"
   ]
  },
  {
   "cell_type": "markdown",
   "metadata": {
    "id": "dG4-CTkdjDb4"
   },
   "source": [
    "sigma = 0.2"
   ]
  },
  {
   "cell_type": "code",
   "execution_count": 14,
   "metadata": {
    "id": "N5tntAnNs_PL"
   },
   "outputs": [],
   "source": [
    "from scipy import signal as sig\n",
    "import numpy as np\n",
    "from scipy.ndimage import  gaussian_filter\n",
    "\n",
    "def Hariss(image,method='classic',sigM=0.2):\n",
    "  #Dérivatoin x-----> y---->\n",
    "    kernel_x = np.array([[-1, 0, 1],[-2, 0, 2],[-1, 0, 1]])\n",
    "    kernel_y = np.array([[1, 2, 1], [0, 0, 0], [-1, -2, -1]])\n",
    "    Ix = sig.convolve2d(image, kernel_x, mode='same')\n",
    "    Iy = sig.convolve2d(image, kernel_y, mode='same')\n",
    "  ##### fin de dérivation \n",
    "\n",
    "\n",
    "  # les quatres images et la convolution gaussian: \n",
    "    Ixx = gaussian_filter(Ix**2, sigma=sigM)\n",
    "    Ixy = gaussian_filter(Iy*Ix, sigma=sigM)\n",
    "    Iyy = gaussian_filter(Iy**2, sigma=sigM)\n",
    "\n",
    "    im_sortie = np.zeros(image.shape)\n",
    "    alpha = 0.04 \n",
    "    R = np.zeros(image.shape)\n",
    "  #calcule de R:\n",
    "    for i in range(1,image.shape[0]-1):\n",
    "        for j in range(1,image.shape[1]-1):\n",
    "            M = np.array([[Ixx[i, j], Ixy[i, j]], [Ixy[i, j], Iyy[i, j]]], dtype=np.float64)\n",
    "            if(method == 'Szeliski'):\n",
    "                R[i, j] = np.linalg.det(M) / (np.power(np.trace(M), 2)) # good\n",
    "\n",
    "            elif(method == 'classic'):\n",
    "                R[i, j] = np.linalg.det(M) - alpha*(np.power(np.trace(M), 2))\n",
    "    \n",
    "  #seuillage : \n",
    "        U= [[1,0],[1,1],[0,1],[-1,1],[-1,0],[-1,-1],[0,-1],[1,-1]]# Déplacements\n",
    "\n",
    "        for i in range(R.shape[0]):\n",
    "            for j in range(R.shape[1]):\n",
    "                if (R[i,j]> 0  ):# positive ?\n",
    "                    for e in U:\n",
    "                        if(R[i,j]> R[i+e[0],j+e[1]] ) :\n",
    "                            im_sortie[i,j]=1 \n",
    "    return im_sortie\n",
    "\n",
    "#im_sortie = cv.dilate(im_sortie,None)\n",
    "\n",
    "\n"
   ]
  },
  {
   "cell_type": "code",
   "execution_count": 15,
   "metadata": {
    "colab": {
     "base_uri": "https://localhost:8080/",
     "height": 304
    },
    "id": "YoK5qtVGZ3xZ",
    "outputId": "50506717-ca3d-4f45-8066-21c8de73059a"
   },
   "outputs": [
    {
     "name": "stderr",
     "output_type": "stream",
     "text": [
      "<ipython-input-14-4477032617f2>:27: RuntimeWarning: invalid value encountered in double_scalars\n",
      "  R[i, j] = np.linalg.det(M) / (np.power(np.trace(M), 2)) # good\n"
     ]
    },
    {
     "data": {
      "text/plain": [
       "<matplotlib.image.AxesImage at 0x29e870ab0d0>"
      ]
     },
     "execution_count": 15,
     "metadata": {},
     "output_type": "execute_result"
    },
    {
     "data": {
      "image/png": "[encoded data removed]",
      "text/plain": [
       "<Figure size 432x288 with 1 Axes>"
      ]
     },
     "metadata": {
      "needs_background": "light"
     },
     "output_type": "display_data"
    }
   ],
   "source": [
    "im_sortie_Szeliski = Hariss(image,method='Szeliski',sigM = 0.2)\n",
    "plt.imshow(im_sortie_Szeliski)"
   ]
  },
  {
   "cell_type": "code",
   "execution_count": 16,
   "metadata": {
    "colab": {
     "base_uri": "https://localhost:8080/",
     "height": 286
    },
    "id": "7zxJkriEi0a-",
    "outputId": "bca1ddea-6b5c-424f-b749-c28094120fa3"
   },
   "outputs": [
    {
     "data": {
      "text/plain": [
       "[<matplotlib.lines.Line2D at 0x29e88332fd0>]"
      ]
     },
     "execution_count": 16,
     "metadata": {},
     "output_type": "execute_result"
    },
    {
     "data": {
      "image/png": "[encoded data removed]",
      "text/plain": [
       "<Figure size 432x288 with 1 Axes>"
      ]
     },
     "metadata": {
      "needs_background": "light"
     },
     "output_type": "display_data"
    }
   ],
   "source": [
    "a,b=np.where(im_sortie_Szeliski==1)\n",
    "plt.figure()\n",
    "plt.imshow(image,cmap='gray')\n",
    "plt.plot(b,a,'r.')"
   ]
  },
  {
   "cell_type": "markdown",
   "metadata": {
    "id": "muZNKgYSjKz4"
   },
   "source": [
    "pour sigma = 0.1"
   ]
  },
  {
   "cell_type": "code",
   "execution_count": 17,
   "metadata": {
    "colab": {
     "base_uri": "https://localhost:8080/",
     "height": 304
    },
    "id": "VGKRmMlHlPfn",
    "outputId": "8b5567e7-d187-4832-e381-a13b798e2286"
   },
   "outputs": [
    {
     "name": "stderr",
     "output_type": "stream",
     "text": [
      "<ipython-input-14-4477032617f2>:27: RuntimeWarning: invalid value encountered in double_scalars\n",
      "  R[i, j] = np.linalg.det(M) / (np.power(np.trace(M), 2)) # good\n"
     ]
    },
    {
     "data": {
      "text/plain": [
       "[<matplotlib.lines.Line2D at 0x29e880c1df0>]"
      ]
     },
     "execution_count": 17,
     "metadata": {},
     "output_type": "execute_result"
    },
    {
     "data": {
      "image/png": "[encoded data removed]",
      "text/plain": [
       "<Figure size 432x288 with 1 Axes>"
      ]
     },
     "metadata": {
      "needs_background": "light"
     },
     "output_type": "display_data"
    }
   ],
   "source": [
    "im_sortie_Szeliski = Hariss(image,method='Szeliski',sigM = 0.1)\n",
    "a,b=np.where(im_sortie_Szeliski==1)\n",
    "plt.figure()\n",
    "plt.imshow(image,cmap='gray')\n",
    "plt.plot(b,a,'r.')"
   ]
  },
  {
   "cell_type": "markdown",
   "metadata": {
    "id": "k8DpnKr0s_PL"
   },
   "source": [
    "comparer avec opencv"
   ]
  },
  {
   "cell_type": "code",
   "execution_count": 18,
   "metadata": {
    "id": "hkJNbQKys_PO",
    "outputId": "7077011e-fa4a-46a9-f3db-33ae2f108664"
   },
   "outputs": [
    {
     "name": "stderr",
     "output_type": "stream",
     "text": [
      "Clipping input data to the valid range for imshow with RGB data ([0..1] for floats or [0..255] for integers).\n"
     ]
    },
    {
     "data": {
      "text/plain": [
       "<matplotlib.image.AxesImage at 0x29e881013d0>"
      ]
     },
     "execution_count": 18,
     "metadata": {},
     "output_type": "execute_result"
    },
    {
     "data": {
      "image/png": "[encoded data removed]",
      "text/plain": [
       "<Figure size 432x288 with 1 Axes>"
      ]
     },
     "metadata": {
      "needs_background": "light"
     },
     "output_type": "display_data"
    }
   ],
   "source": [
    "img=image.copy()\n",
    "# Detecter les points avec Harris\n",
    "dst = cv.cornerHarris(img,2,3,0.04)\n",
    "# Dilater l'image pour mieux visualiser les points de coins\n",
    "dst = cv.dilate(dst,None)\n",
    "# Créer une image RVB\n",
    "img2=np.zeros((img.shape[0],img.shape[1],3))\n",
    "img2[:,:,0]=img\n",
    "img2[:,:,1]=img\n",
    "img2[:,:,2]=img\n",
    "# Dessiner les points sur l'image RVB\n",
    "img2[dst>0.01*dst.max()]=[0,0,255]\n",
    "plt.imshow(img2)"
   ]
  }
 ],
 "metadata": {
  "colab": {
   "collapsed_sections": [],
   "name": "Copy of TP 4 - Descripteurs d'images.ipynb",
   "provenance": []
  },
  "kernelspec": {
   "display_name": "Python 3",
   "language": "python",
   "name": "python3"
  },
  "language_info": {
   "codemirror_mode": {
    "name": "ipython",
    "version": 3
   },
   "file_extension": ".py",
   "mimetype": "text/x-python",
   "name": "python",
   "nbconvert_exporter": "python",
   "pygments_lexer": "ipython3",
   "version": "3.9.2"
  }
 },
 "nbformat": 4,
 "nbformat_minor": 1
}
